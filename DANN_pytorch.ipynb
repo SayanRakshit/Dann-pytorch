{
 "cells": [
  {
   "cell_type": "code",
   "execution_count": 1,
   "id": "b62c2027",
   "metadata": {},
   "outputs": [
    {
     "name": "stderr",
     "output_type": "stream",
     "text": [
      "/home/sayan/anaconda3/envs/pytorch_gpu/lib/python3.9/site-packages/torchvision/io/image.py:11: UserWarning: Failed to load image Python extension: /home/sayan/anaconda3/envs/pytorch_gpu/lib/python3.9/site-packages/torchvision/image.so: undefined symbol: _ZNK3c1010TensorImpl36is_contiguous_nondefault_policy_implENS_12MemoryFormatE\n",
      "  warn(f\"Failed to load image Python extension: {e}\")\n"
     ]
    }
   ],
   "source": [
    "import random\n",
    "from tqdm import tqdm\n",
    "import os\n",
    "import glob\n",
    "from PIL import Image, ImageFile\n",
    "import numpy as np\n",
    "\n",
    "import torch.utils.data as data\n",
    "\n",
    "import torch\n",
    "from torch.autograd import Function\n",
    "import torch.optim as optim\n",
    "\n",
    "from torchvision import transforms\n",
    "import matplotlib.pyplot as plt\n",
    "\n",
    "\n",
    "import torch.nn as nn\n",
    "import torchvision.models as models\n",
    "model_resnet50 = models.resnet50(pretrained=True)\n",
    "model_resnet50 = torch.nn.Sequential(*(list(model_resnet50.children())[:-1]))"
   ]
  },
  {
   "cell_type": "code",
   "execution_count": 2,
   "id": "0b5a02d0",
   "metadata": {},
   "outputs": [],
   "source": [
    "from pcgrad import PCGrad"
   ]
  },
  {
   "cell_type": "code",
   "execution_count": 3,
   "id": "2f95da7a",
   "metadata": {},
   "outputs": [],
   "source": [
    "def file_list(data_dir):\n",
    "\n",
    "    # list of image files and corresponding labels\n",
    "    files_list = []\n",
    "    x = os.walk(data_dir, topdown=False)\n",
    "    j=-1\n",
    "    for path,d,filelist in sorted(x):\n",
    "        if j !=-1:\n",
    "            kkk=path.split(os.sep)\n",
    "            label_name = kkk[-1]\n",
    "            \n",
    "            for filename in sorted(filelist):\n",
    "\n",
    "                file_glob = os.path.join(path, filename)\n",
    "                files_list.extend([(glob.glob(file_glob),j, label_name)])\n",
    "                          \n",
    "        j=j+1\n",
    "    print(j)\n",
    "\n",
    "    return files_list"
   ]
  },
  {
   "cell_type": "code",
   "execution_count": 4,
   "id": "621f5c11",
   "metadata": {},
   "outputs": [],
   "source": [
    "class data_loader_single(data.Dataset):\n",
    "    def __init__(self, dataset):\n",
    "        \n",
    "        self.dataset = dataset\n",
    "        \n",
    "        mean_pix = [0.485, 0.456, 0.406]\n",
    "        std_pix = [0.229, 0.224, 0.225]\n",
    "        normalize = transforms.Normalize(mean=mean_pix, std=std_pix)\n",
    "        \n",
    "        self.transformer_src = transforms.Compose([transforms.Resize(256),\n",
    "                                                transforms.RandomCrop(224),\n",
    "                                                transforms.ToTensor(),\n",
    "                                                normalize])\n",
    "    def __len__(self):\n",
    "        return len(self.dataset)\n",
    "    \n",
    "    def __getitem__(self, index):\n",
    "        return_val = []\n",
    "               \n",
    "        source_img = Image.open(self.dataset[index][0][0]).convert('RGB')\n",
    "        source_label = torch.tensor(self.dataset[index][1], dtype=torch.long)\n",
    "        source_img = self.transformer_src(source_img)\n",
    "        image_label_name = self.dataset[index][2]\n",
    "        \n",
    "        return_val.append((source_img, source_label, image_label_name))\n",
    "        \n",
    "        return return_val"
   ]
  },
  {
   "cell_type": "code",
   "execution_count": 5,
   "id": "482e1783",
   "metadata": {},
   "outputs": [],
   "source": [
    "def dataset_loader(dataset1, \n",
    "                   batch_size=4, shuffle=True, \n",
    "                   drop_last=True):\n",
    "    \n",
    "    train_loader = data_loader_single(dataset1)\n",
    "    loader_train = torch.utils.data.DataLoader(train_loader,batch_size=batch_size, \n",
    "                                                      shuffle=shuffle, drop_last=drop_last)\n",
    "    \n",
    "    return loader_train"
   ]
  },
  {
   "cell_type": "code",
   "execution_count": 6,
   "id": "dd97c1c3",
   "metadata": {},
   "outputs": [],
   "source": [
    "from torch.autograd import Function\n",
    "\n",
    "\n",
    "class ReverseLayerF(Function):\n",
    "\n",
    "    @staticmethod\n",
    "    def forward(ctx, x, alpha):\n",
    "        ctx.alpha = alpha\n",
    "\n",
    "        return x.view_as(x)\n",
    "\n",
    "    @staticmethod\n",
    "    def backward(ctx, grad_output):\n",
    "        output = grad_output.neg() * ctx.alpha\n",
    "\n",
    "        return output, None"
   ]
  },
  {
   "cell_type": "code",
   "execution_count": 7,
   "id": "1fe8c299",
   "metadata": {},
   "outputs": [],
   "source": [
    "class Feature_Extractor(nn.Module):\n",
    "    def __init__(self):\n",
    "        super().__init__()\n",
    "        self.network = nn.Sequential(\n",
    "            model_resnet50,\n",
    "            nn.Flatten(start_dim=1, end_dim=-1)\n",
    "        )\n",
    "    def forward(self, x):\n",
    "        x = self.network(x)\n",
    "        return x"
   ]
  },
  {
   "cell_type": "code",
   "execution_count": 8,
   "id": "bf9607fd",
   "metadata": {},
   "outputs": [],
   "source": [
    "class DomainClassifier(nn.Module): # source classifier\n",
    "    def __init__(self, input_dim):\n",
    "        super(DomainClassifier, self).__init__()\n",
    "        self.input_dim = input_dim\n",
    "        self.numclasses = numclasses\n",
    "        self.domain_classifier = nn.Sequential()\n",
    "        self.domain_classifier.add_module('d_fc1', nn.Linear(input_dim, 100))\n",
    "        self.domain_classifier.add_module('d_bn1', nn.BatchNorm1d(100))\n",
    "        self.domain_classifier.add_module('d_relu1', nn.ReLU(True))\n",
    "        self.domain_classifier.add_module('d_fc2', nn.Linear(100, 2))\n",
    "        self.domain_classifier.add_module('d_softmax', nn.LogSoftmax(dim=1))\n",
    "\n",
    "    def forward(self, input_data, alpha=1):\n",
    "        \n",
    "        reverse_feature = ReverseLayerF.apply(input_data, alpha)\n",
    "        domain_output = self.domain_classifier(reverse_feature)\n",
    "\n",
    "        return domain_output"
   ]
  },
  {
   "cell_type": "code",
   "execution_count": 9,
   "id": "5f62fbab",
   "metadata": {},
   "outputs": [],
   "source": [
    "class ClassClassifier(nn.Module): # source classifier\n",
    "    def __init__(self, input_dim, numclasses):\n",
    "        super(ClassClassifier, self).__init__()\n",
    "        self.input_dim = input_dim\n",
    "        self.numclasses = numclasses\n",
    "        self.class_classifier = nn.Sequential()\n",
    "        self.class_classifier.add_module('c_fc1', nn.Linear(input_dim, 1024))\n",
    "        self.class_classifier.add_module('c_bn1', nn.BatchNorm1d(1024))\n",
    "        self.class_classifier.add_module('c_relu1', nn.ReLU(True))\n",
    "        self.class_classifier.add_module('c_drop1', nn.Dropout2d())\n",
    "        self.class_classifier.add_module('c_fc2', nn.Linear(1024, 512))\n",
    "        self.class_classifier.add_module('c_bn2', nn.BatchNorm1d(512))\n",
    "        self.class_classifier.add_module('c_relu2', nn.ReLU(True))\n",
    "        self.class_classifier.add_module('c_fc3', nn.Linear(512, numclasses))\n",
    "        self.class_classifier.add_module('c_softmax', nn.LogSoftmax())\n",
    "        \n",
    "    def forward(self, input_features):\n",
    "        \n",
    "        classifier_output = self.class_classifier(input_features)\n",
    "\n",
    "        return classifier_output"
   ]
  },
  {
   "cell_type": "code",
   "execution_count": null,
   "id": "6e30abf9",
   "metadata": {},
   "outputs": [],
   "source": []
  },
  {
   "cell_type": "code",
   "execution_count": 10,
   "id": "5a433548",
   "metadata": {},
   "outputs": [],
   "source": [
    "def test(t_file_list, base_model, ClassClassifier):\n",
    "    \n",
    "    base_model.eval(), ClassClassifier.eval()\n",
    "    \n",
    "    test_dataLoader = dataset_loader(t_file_list, batch_size= 10, drop_last=False)\n",
    "    \n",
    "    with torch.no_grad():\n",
    "        acc = 0\n",
    "        \n",
    "        for i, batch in enumerate(test_dataLoader):\n",
    "            image = batch[0][0].to(device)\n",
    "            label = batch[0][1]\n",
    "            \n",
    "            prob = ClassClassifier(base_model(image))            \n",
    "            cl_pred=torch.argmax(prob.cpu(), dim = 1)\n",
    "            acc += torch.sum(cl_pred == label).item()\n",
    "            \n",
    "        acc/=len(t_file_list)\n",
    "            \n",
    "        return acc\n",
    "        "
   ]
  },
  {
   "cell_type": "code",
   "execution_count": 11,
   "id": "9830ded2",
   "metadata": {},
   "outputs": [],
   "source": [
    "def my_plot(epochs, loss):\n",
    "    plt.plot(epochs, loss)"
   ]
  },
  {
   "cell_type": "code",
   "execution_count": 12,
   "id": "fc649926",
   "metadata": {},
   "outputs": [],
   "source": [
    "def training(root, dataset, base_model, classifier, discriminator, criterion, optimizer,Source, \n",
    "             target, device, num_epoch, save_path, batch_size, shuffle1, drop_last):\n",
    "    \n",
    "    device = \"cuda\" if torch.cuda.is_available() else \"cpu\"\n",
    "\n",
    "    base_model=base_model.to(device)\n",
    "    base_model=base_model.train()\n",
    "    \n",
    "    classifier=classifier.to(device)\n",
    "    classifier=classifier.train()\n",
    "    \n",
    "    discriminator=discriminator.to(device)\n",
    "    discriminator=discriminator.train()\n",
    "    \n",
    "    \n",
    "    criterion=criterion.to(device)\n",
    "    \n",
    "    loss_class = torch.nn.NLLLoss()\n",
    "    loss_class = loss_class.to(device)\n",
    "    \n",
    "    loss_domain = torch.nn.NLLLoss()\n",
    "    loss_domain = loss_domain.to(device)\n",
    "    \n",
    "    s1_path = os.path.join(root, dataset, Source)\n",
    "    s1_file_list = file_list(s1_path)\n",
    "    \n",
    "    t_path = os.path.join(root, dataset, target)\n",
    "    t_file_list = file_list(t_path)\n",
    "    \n",
    "    cl_loss_list = []\n",
    "    d_loss_list = []\n",
    "    \n",
    "    for epoch in range(num_epoch):\n",
    "        base_model=base_model.train()\n",
    "        classifier=classifier.train()\n",
    "        discriminator=discriminator.train()\n",
    "        \n",
    "        print(\"epoch___________________\", epoch)\n",
    "        step=0\n",
    "        cl_loss_avg=0\n",
    "        d_loss_avg = 0\n",
    "        \n",
    "        S1_dataload = dataset_loader(s1_file_list, batch_size= batch_size)\n",
    "        \n",
    "        t1_dataload = dataset_loader(t_file_list, batch_size= batch_size)\n",
    "        \n",
    "        n_batch_S = len(S1_dataload)\n",
    "        #print(n_batch_S)\n",
    "        s1_iter = iter(S1_dataload)\n",
    "        #print(len(s1_iter))        \n",
    "        \n",
    "        n_batch_t = len(t1_dataload)\n",
    "        t_iter = iter(t1_dataload)\n",
    "        \n",
    "        iteration = np.max([n_batch_S, n_batch_t])\n",
    "        \n",
    "        \n",
    "        ### ________________________ iteration ___________________###\n",
    "        \n",
    "        for i in tqdm(range(iteration)):\n",
    "            \n",
    "            pp1 = float(i + epoch * iteration) / num_epoch / iteration\n",
    "            alpha = 2. / (1. + np.exp(-10 * pp1)) - 1\n",
    "            \n",
    "            if step%n_batch_S == 0:\n",
    "                s1_iter=iter(S1_dataload)\n",
    "            batch_s1=next(s1_iter)        # S batch\n",
    "                       \n",
    "            if step%n_batch_t == 0:\n",
    "                t_iter = iter(t1_dataload)  # target\n",
    "            batch_t=next(t_iter)\n",
    "            \n",
    "            S1_f = batch_s1[0][0].float()\n",
    "            S1_f = S1_f.to(device)\n",
    "            S1_l = batch_s1[0][1].type(torch.LongTensor)\n",
    "            S1_l = S1_l.to(device)\n",
    "            #print(S1_l)\n",
    "            \n",
    "            t_f = batch_t[0][0].float()\n",
    "            t_f = t_f.to(device)\n",
    "\n",
    "            t_f_out = base_model(t_f)\n",
    "\n",
    "            S1_f_out = base_model(S1_f) \n",
    "\n",
    "            t_f_out = base_model(t_f)\n",
    "            \n",
    "            # classifier output\n",
    "            \n",
    "            S1_out = classifier(S1_f_out)\n",
    "            \n",
    "            # Discriminator output\n",
    "            \n",
    "            S1_out_dis = discriminator(S1_f_out, alpha = alpha)\n",
    "            t_out_dis = discriminator(t_f_out, alpha = alpha)\n",
    "            \n",
    "            s1_dis_l = torch.zeros(S1_out_dis.shape[0]).type(torch.LongTensor).to(device)\n",
    "            t_dis_l = torch.ones(t_out_dis.shape[0]).type(torch.LongTensor).to(device)\n",
    "            \n",
    "            ## loss calculations\n",
    "            \n",
    "            \n",
    "            cl_loss1 = loss_class(S1_out, S1_l)\n",
    "            \n",
    "            cl_loss_avg +=cl_loss1.item()\n",
    "            \n",
    "            d1_loss = criterion(S1_out_dis, s1_dis_l)\n",
    "            d2_loss = criterion(t_out_dis, t_dis_l)\n",
    "            \n",
    "            d_loss = (d1_loss + d2_loss)/2\n",
    "            #print(d_loss)\n",
    "            d_loss_avg +=d_loss.item()\n",
    "            \n",
    "            #total_loss = cl_loss1 + d_loss\n",
    "            \n",
    "            total_loss = [cl_loss1, d_loss]\n",
    "            \n",
    "            \n",
    "            \n",
    "            #optimizer.zero_grad()\n",
    "            \n",
    "            optimizer.pc_backward(total_loss)\n",
    "            \n",
    "            #total_loss.backward() # backprop\n",
    "            optimizer.step()\n",
    "            \n",
    "            step=step+1\n",
    "        cl_loss_avg /= iteration\n",
    "        d_loss_avg /= iteration\n",
    "        dd=test(t_file_list, base_model, classifier)\n",
    "        print(dd*100)\n",
    "        cl_loss_list.append(cl_loss_avg.item())\n",
    "        d_loss_list.append(d_loss_avg.item())\n",
    "    my_plot(np.linspace(1, num_epoch, num_epoch).astype(int), cl_loss_list)\n",
    "    my_plot(np.linspace(1, num_epoch, num_epoch).astype(int), d_loss_list)\n",
    "            "
   ]
  },
  {
   "cell_type": "code",
   "execution_count": 14,
   "id": "e936297b",
   "metadata": {},
   "outputs": [],
   "source": [
    "## model input parameters\n",
    "inputdim = 2048\n",
    "hidden1_out = 1024\n",
    "output_dim = 512\n",
    "\n",
    "numclasses = 14\n",
    "\n",
    "root = \"/home/sayan/Desktop/code_2023/RS_data\"\n",
    "#root =\"/home/sayan/Desktop/code_2023/RS_data/EarthonCanvas\"\n",
    "dataset = \"EarthonCanvas\"\n",
    "source =  \"Aerialsketch\"\n",
    "target = \"AerialPhoto\" "
   ]
  },
  {
   "cell_type": "code",
   "execution_count": 15,
   "id": "57dd83bf",
   "metadata": {},
   "outputs": [
    {
     "name": "stdout",
     "output_type": "stream",
     "text": [
      "14\n",
      "14\n",
      "epoch___________________ 0\n"
     ]
    },
    {
     "name": "stderr",
     "output_type": "stream",
     "text": [
      "  0%|                                                  | 0/350 [00:00<?, ?it/s]/home/sayan/anaconda3/envs/pytorch_gpu/lib/python3.9/site-packages/torch/nn/functional.py:1331: UserWarning: dropout2d: Received a 2-D input to dropout2d, which is deprecated and will result in an error in a future release. To retain the behavior and silence this warning, please use dropout instead. Note that dropout2d exists to provide channel-wise dropout on inputs with 2 spatial dimensions, a channel dimension, and an optional batch dimension (i.e. 3D or 4D inputs).\n",
      "  warnings.warn(warn_msg)\n",
      "/home/sayan/anaconda3/envs/pytorch_gpu/lib/python3.9/site-packages/torch/nn/modules/container.py:204: UserWarning: Implicit dimension choice for log_softmax has been deprecated. Change the call to include dim=X as an argument.\n",
      "  input = module(input)\n",
      "100%|████████████████████████████████████████| 350/350 [01:01<00:00,  5.68it/s]\n"
     ]
    },
    {
     "name": "stdout",
     "output_type": "stream",
     "text": [
      "39.313795568263046\n",
      "epoch___________________ 1\n"
     ]
    },
    {
     "name": "stderr",
     "output_type": "stream",
     "text": [
      "100%|████████████████████████████████████████| 350/350 [01:00<00:00,  5.81it/s]\n"
     ]
    },
    {
     "name": "stdout",
     "output_type": "stream",
     "text": [
      "43.81701215153681\n",
      "epoch___________________ 2\n"
     ]
    },
    {
     "name": "stderr",
     "output_type": "stream",
     "text": [
      "100%|████████████████████████████████████████| 350/350 [01:00<00:00,  5.80it/s]\n"
     ]
    },
    {
     "name": "stdout",
     "output_type": "stream",
     "text": [
      "47.748391708363116\n",
      "epoch___________________ 3\n"
     ]
    },
    {
     "name": "stderr",
     "output_type": "stream",
     "text": [
      "100%|████████████████████████████████████████| 350/350 [01:00<00:00,  5.80it/s]\n"
     ]
    },
    {
     "name": "stdout",
     "output_type": "stream",
     "text": [
      "49.6783416726233\n",
      "epoch___________________ 4\n"
     ]
    },
    {
     "name": "stderr",
     "output_type": "stream",
     "text": [
      "100%|████████████████████████████████████████| 350/350 [01:00<00:00,  5.79it/s]\n"
     ]
    },
    {
     "name": "stdout",
     "output_type": "stream",
     "text": [
      "46.31879914224446\n"
     ]
    },
    {
     "data": {
      "image/png": "[encoded data removed]",
      "text/plain": [
       "<Figure size 432x288 with 1 Axes>"
      ]
     },
     "metadata": {
      "needs_background": "light"
     },
     "output_type": "display_data"
    }
   ],
   "source": [
    "base_model = Feature_Extractor()\n",
    "classifier = ClassClassifier(inputdim, numclasses)\n",
    "discriminator = DomainClassifier(inputdim)\n",
    "criterion = nn.CrossEntropyLoss()\n",
    "learning_rate = 0.0001\n",
    "\n",
    "params = list(base_model.parameters()) + list(classifier.parameters()) + list(discriminator.parameters())\n",
    "#optimizer = torch.optim.Adam(params, lr=learning_rate)\n",
    "\n",
    "optimizer = PCGrad(optim.Adam(params, lr=learning_rate))\n",
    "\n",
    "shuffle1=True\n",
    "drop_last = True\n",
    "batch_size = 4\n",
    "\n",
    "device = \"cuda\" if torch.cuda.is_available() else \"cpu\"\n",
    "num_epoch= 5\n",
    "save_path=\"./save_model\"\n",
    "\n",
    "###################################\n",
    "\n",
    "training(root, dataset, base_model, classifier, discriminator, criterion, optimizer,source, target, \n",
    "             device, num_epoch, save_path, batch_size, shuffle1, drop_last)"
   ]
  },
  {
   "cell_type": "code",
   "execution_count": null,
   "id": "347a5d85",
   "metadata": {},
   "outputs": [],
   "source": [
    "cl_loss_list"
   ]
  },
  {
   "cell_type": "code",
   "execution_count": null,
   "id": "6ed55330",
   "metadata": {},
   "outputs": [],
   "source": []
  },
  {
   "cell_type": "code",
   "execution_count": null,
   "id": "0b31cf1e",
   "metadata": {},
   "outputs": [],
   "source": []
  }
 ],
 "metadata": {
  "kernelspec": {
   "display_name": "Python 3 (ipykernel)",
   "language": "python",
   "name": "python3"
  },
  "language_info": {
   "codemirror_mode": {
    "name": "ipython",
    "version": 3
   },
   "file_extension": ".py",
   "mimetype": "text/x-python",
   "name": "python",
   "nbconvert_exporter": "python",
   "pygments_lexer": "ipython3",
   "version": "3.9.7"
  }
 },
 "nbformat": 4,
 "nbformat_minor": 5
}
